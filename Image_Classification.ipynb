{
  "nbformat": 4,
  "nbformat_minor": 0,
  "metadata": {
    "colab": {
      "name": "Image Classification.ipynb",
      "provenance": [],
      "authorship_tag": "ABX9TyOGiDQkxutR6kld7xuPCP2C",
      "include_colab_link": true
    },
    "kernelspec": {
      "name": "python3",
      "display_name": "Python 3"
    },
    "language_info": {
      "name": "python"
    }
  },
  "cells": [
    {
      "cell_type": "markdown",
      "metadata": {
        "id": "view-in-github",
        "colab_type": "text"
      },
      "source": [
        "<a href=\"https://colab.research.google.com/github/HARBAL-DEEP-SIHU/MINOR-PROJECT/blob/main/Image_Classification.ipynb\" target=\"_parent\"><img src=\"https://colab.research.google.com/assets/colab-badge.svg\" alt=\"Open In Colab\"/></a>"
      ]
    },
    {
      "cell_type": "code",
      "metadata": {
        "colab": {
          "base_uri": "https://localhost:8080/"
        },
        "id": "4csI0bsyxisj",
        "outputId": "ea72fe60-87e7-4669-90e3-39469c93b83b"
      },
      "source": [
        "!pip install ipython-autotime\n",
        "%load_ext autotime"
      ],
      "execution_count": 1,
      "outputs": [
        {
          "output_type": "stream",
          "text": [
            "Collecting ipython-autotime\n",
            "  Downloading https://files.pythonhosted.org/packages/b4/c9/b413a24f759641bc27ef98c144b590023c8038dfb8a3f09e713e9dff12c1/ipython_autotime-0.3.1-py2.py3-none-any.whl\n",
            "Requirement already satisfied: ipython in /usr/local/lib/python3.7/dist-packages (from ipython-autotime) (5.5.0)\n",
            "Requirement already satisfied: traitlets>=4.2 in /usr/local/lib/python3.7/dist-packages (from ipython->ipython-autotime) (5.0.5)\n",
            "Requirement already satisfied: pickleshare in /usr/local/lib/python3.7/dist-packages (from ipython->ipython-autotime) (0.7.5)\n",
            "Requirement already satisfied: pygments in /usr/local/lib/python3.7/dist-packages (from ipython->ipython-autotime) (2.6.1)\n",
            "Requirement already satisfied: simplegeneric>0.8 in /usr/local/lib/python3.7/dist-packages (from ipython->ipython-autotime) (0.8.1)\n",
            "Requirement already satisfied: decorator in /usr/local/lib/python3.7/dist-packages (from ipython->ipython-autotime) (4.4.2)\n",
            "Requirement already satisfied: pexpect; sys_platform != \"win32\" in /usr/local/lib/python3.7/dist-packages (from ipython->ipython-autotime) (4.8.0)\n",
            "Requirement already satisfied: setuptools>=18.5 in /usr/local/lib/python3.7/dist-packages (from ipython->ipython-autotime) (56.0.0)\n",
            "Requirement already satisfied: prompt-toolkit<2.0.0,>=1.0.4 in /usr/local/lib/python3.7/dist-packages (from ipython->ipython-autotime) (1.0.18)\n",
            "Requirement already satisfied: ipython-genutils in /usr/local/lib/python3.7/dist-packages (from traitlets>=4.2->ipython->ipython-autotime) (0.2.0)\n",
            "Requirement already satisfied: ptyprocess>=0.5 in /usr/local/lib/python3.7/dist-packages (from pexpect; sys_platform != \"win32\"->ipython->ipython-autotime) (0.7.0)\n",
            "Requirement already satisfied: six>=1.9.0 in /usr/local/lib/python3.7/dist-packages (from prompt-toolkit<2.0.0,>=1.0.4->ipython->ipython-autotime) (1.15.0)\n",
            "Requirement already satisfied: wcwidth in /usr/local/lib/python3.7/dist-packages (from prompt-toolkit<2.0.0,>=1.0.4->ipython->ipython-autotime) (0.2.5)\n",
            "Installing collected packages: ipython-autotime\n",
            "Successfully installed ipython-autotime-0.3.1\n",
            "time: 2.24 ms (started: 2021-04-30 17:43:10 +00:00)\n"
          ],
          "name": "stdout"
        }
      ]
    },
    {
      "cell_type": "code",
      "metadata": {
        "colab": {
          "base_uri": "https://localhost:8080/"
        },
        "id": "18zC-cXMm4Wc",
        "outputId": "310e8507-70d3-41e3-ba7d-82b297a3d593"
      },
      "source": [
        "!pip install bing-image-downloader\n",
        "\n",
        "\n"
      ],
      "execution_count": 2,
      "outputs": [
        {
          "output_type": "stream",
          "text": [
            "Collecting bing-image-downloader\n",
            "  Downloading https://files.pythonhosted.org/packages/0d/bf/537a61030b84ae4cd5022d5c7b014fd9bc3ce7c02358919153a6658a61d3/bing_image_downloader-1.0.4-py3-none-any.whl\n",
            "Installing collected packages: bing-image-downloader\n",
            "Successfully installed bing-image-downloader-1.0.4\n",
            "time: 3.03 s (started: 2021-04-30 17:43:14 +00:00)\n"
          ],
          "name": "stdout"
        }
      ]
    },
    {
      "cell_type": "code",
      "metadata": {
        "colab": {
          "base_uri": "https://localhost:8080/"
        },
        "id": "VWOydS2duC5n",
        "outputId": "a9481e3a-5d9f-41e2-a327-0bbf0b5c591c"
      },
      "source": [
        "!mkdir images"
      ],
      "execution_count": 3,
      "outputs": [
        {
          "output_type": "stream",
          "text": [
            "time: 114 ms (started: 2021-04-30 17:43:21 +00:00)\n"
          ],
          "name": "stdout"
        }
      ]
    },
    {
      "cell_type": "code",
      "metadata": {
        "colab": {
          "base_uri": "https://localhost:8080/"
        },
        "id": "xspBsRywuFHT",
        "outputId": "25baefd3-7916-49ba-891a-c01fda9999aa"
      },
      "source": [
        "from bing_image_downloader import downloader\n",
        "downloader.download(\"Cheetahs\",limit=30,output_dir=\"images\",\n",
        "                    adult_filter_off=True )"
      ],
      "execution_count": 4,
      "outputs": [
        {
          "output_type": "stream",
          "text": [
            "\n",
            "\n",
            "[!!]Indexing page: 1\n",
            "\n",
            "[%] Indexed 21 Images on Page 1.\n",
            "\n",
            "===============================================\n",
            "\n",
            "[%] Downloading Image #1 from https://images.csmonitor.com/csm/2016/12/1020569_1_1227-cheetahs_standard.jpg?alias=standard_900x600\n",
            "[%] File Downloaded !\n",
            "\n",
            "[%] Downloading Image #2 from http://img.burrard-lucas.com/zambia/full/cheetahs.jpg\n",
            "[%] File Downloaded !\n",
            "\n",
            "[%] Downloading Image #3 from http://bloximages.newyork1.vip.townnews.com/richmond.com/content/tncms/assets/v3/editorial/f/0e/f0ed2a0c-48b8-11e3-8f39-001a4bcf6878/527d512a6f1d1.image.jpg\n",
            "[%] File Downloaded !\n",
            "\n",
            "[%] Downloading Image #4 from http://i.ytimg.com/vi/5V451tcH69E/maxresdefault.jpg\n",
            "[%] File Downloaded !\n",
            "\n",
            "[%] Downloading Image #5 from https://cdn0.vox-cdn.com/thumbor/I4yMIAsQSYW3SuBHadTEZCsbhWg=/0x52:1000x615/1600x900/cdn0.vox-cdn.com/uploads/chorus_image/image/38760938/10_2013_EATER_SCENES_CHEETAHS2-66.0.0.JPG\n",
            "[%] File Downloaded !\n",
            "\n",
            "[%] Downloading Image #6 from http://saveanimalsfacingextinction.org/wp-content/uploads/2015/06/cheetah_banner.jpg\n",
            "[%] File Downloaded !\n",
            "\n",
            "[%] Downloading Image #7 from http://6thgradeanimalresearch.pbworks.com/f/1266520472/1266520472/13941_1081324173711_1844521020_172810_961333_n.jpg\n",
            "[%] File Downloaded !\n",
            "\n",
            "[%] Downloading Image #8 from http://images.fanpop.com/images/image_uploads/Cheetahs-cheetah-122965_497_500.jpg\n",
            "[%] File Downloaded !\n",
            "\n",
            "[%] Downloading Image #9 from https://live.staticflickr.com/65535/48129340237_53b7025c14_b.jpg\n",
            "[%] File Downloaded !\n",
            "\n",
            "[%] Downloading Image #10 from https://photos.travelblog.org/Photos/17456/1044129/f/10173672-Cheetahs-0.jpg\n",
            "[%] File Downloaded !\n",
            "\n",
            "[%] Downloading Image #11 from https://c2.staticflickr.com/8/7444/16594315945_d3b8da14fc_b.jpg\n",
            "[%] File Downloaded !\n",
            "\n",
            "[%] Downloading Image #12 from https://live.staticflickr.com/8009/7188668750_4398ca5583_n.jpg\n",
            "[%] File Downloaded !\n",
            "\n",
            "[%] Downloading Image #13 from http://www.lookingforcats.com/wpimages/wpad55df8f_01_1a.jpg\n",
            "[%] File Downloaded !\n",
            "\n",
            "[%] Downloading Image #14 from https://wallup.net/wp-content/uploads/2018/10/09/893796-beauty-cute-amazing-animal-wild-animal-cheetah-running-in-jungle.jpg\n",
            "[%] File Downloaded !\n",
            "\n",
            "[%] Downloading Image #15 from https://lookaside.fbsbx.com/lookaside/crawler/media/?media_id=1506869152852132\n",
            "[Error]Invalid image, not saving https://lookaside.fbsbx.com/lookaside/crawler/media/?media_id=1506869152852132\n",
            "\n",
            "[!] Issue getting: https://lookaside.fbsbx.com/lookaside/crawler/media/?media_id=1506869152852132\n",
            "[!] Error:: No active exception to reraise\n",
            "[%] Downloading Image #15 from https://www.zooborns.com/.a/6a010535647bf3970b015437047ccf970c-600wi\n",
            "[%] File Downloaded !\n",
            "\n",
            "[%] Downloading Image #16 from http://media.npr.org/assets/img/2011/01/24/cheetahcub_custom-0dffa32b2abb13d3b51846db5e823ce382183eea-s800-c15.jpg\n",
            "[%] File Downloaded !\n",
            "\n",
            "[%] Downloading Image #17 from https://www.thestar.com/content/dam/thestar/sports/olympics/2009/11/02/usain_bolt_may_have_met_his_match_with_pet_cheetah/bolts_newpet.jpeg\n",
            "[%] File Downloaded !\n",
            "\n",
            "[%] Downloading Image #18 from https://cdn.cnn.com/cnnnext/dam/assets/200415162851-05-sony-world-photography-awards-story-body-super-tease.jpg\n",
            "[%] File Downloaded !\n",
            "\n",
            "[%] Downloading Image #19 from http://bestanimations.com/Animals/Mammals/Cats/Lions/lion-gif-animation-1.gif\n",
            "[%] File Downloaded !\n",
            "\n",
            "[%] Downloading Image #20 from https://www.bing.com/th/id/OGC.83aadc3026cb1785f5eca879bb7514ca?pid=1.7&amp;rurl=http%3a%2f%2fbestanimations.com%2fAnimals%2fMammals%2fCats%2fLions%2flion-gif-animation-1.gif&amp;ehk=sxFIu%2fYMXhD7Y4FzFjUF5sJrCDd1ggzadBCsyvAn9m8%3d\n",
            "[!] Issue getting: https://www.bing.com/th/id/OGC.83aadc3026cb1785f5eca879bb7514ca?pid=1.7&amp;rurl=http%3a%2f%2fbestanimations.com%2fAnimals%2fMammals%2fCats%2fLions%2flion-gif-animation-1.gif&amp;ehk=sxFIu%2fYMXhD7Y4FzFjUF5sJrCDd1ggzadBCsyvAn9m8%3d\n",
            "[!] Error:: HTTP Error 404: Not Found\n",
            "\n",
            "\n",
            "[!!]Indexing page: 2\n",
            "\n",
            "[%] Indexed 21 Images on Page 2.\n",
            "\n",
            "===============================================\n",
            "\n",
            "[%] Downloading Image #20 from https://images.csmonitor.com/csm/2016/12/1020569_1_1227-cheetahs_standard.jpg?alias=standard_900x600\n",
            "[%] File Downloaded !\n",
            "\n",
            "[%] Downloading Image #21 from http://img.burrard-lucas.com/zambia/full/cheetahs.jpg\n",
            "[%] File Downloaded !\n",
            "\n",
            "[%] Downloading Image #22 from http://bloximages.newyork1.vip.townnews.com/richmond.com/content/tncms/assets/v3/editorial/f/0e/f0ed2a0c-48b8-11e3-8f39-001a4bcf6878/527d512a6f1d1.image.jpg\n",
            "[%] File Downloaded !\n",
            "\n",
            "[%] Downloading Image #23 from http://i.ytimg.com/vi/5V451tcH69E/maxresdefault.jpg\n",
            "[%] File Downloaded !\n",
            "\n",
            "[%] Downloading Image #24 from https://cdn0.vox-cdn.com/thumbor/I4yMIAsQSYW3SuBHadTEZCsbhWg=/0x52:1000x615/1600x900/cdn0.vox-cdn.com/uploads/chorus_image/image/38760938/10_2013_EATER_SCENES_CHEETAHS2-66.0.0.JPG\n",
            "[%] File Downloaded !\n",
            "\n",
            "[%] Downloading Image #25 from http://saveanimalsfacingextinction.org/wp-content/uploads/2015/06/cheetah_banner.jpg\n",
            "[%] File Downloaded !\n",
            "\n",
            "[%] Downloading Image #26 from http://6thgradeanimalresearch.pbworks.com/f/1266520472/1266520472/13941_1081324173711_1844521020_172810_961333_n.jpg\n",
            "[%] File Downloaded !\n",
            "\n",
            "[%] Downloading Image #27 from http://images.fanpop.com/images/image_uploads/Cheetahs-cheetah-122965_497_500.jpg\n",
            "[%] File Downloaded !\n",
            "\n",
            "[%] Downloading Image #28 from https://live.staticflickr.com/65535/48129340237_53b7025c14_b.jpg\n",
            "[%] File Downloaded !\n",
            "\n",
            "[%] Downloading Image #29 from https://photos.travelblog.org/Photos/17456/1044129/f/10173672-Cheetahs-0.jpg\n",
            "[%] File Downloaded !\n",
            "\n",
            "[%] Downloading Image #30 from https://c2.staticflickr.com/8/7444/16594315945_d3b8da14fc_b.jpg\n",
            "[%] File Downloaded !\n",
            "\n",
            "\n",
            "\n",
            "[%] Done. Downloaded 30 images.\n",
            "\n",
            "===============================================\n",
            "\n",
            "time: 7.99 s (started: 2021-04-30 17:43:24 +00:00)\n"
          ],
          "name": "stdout"
        }
      ]
    },
    {
      "cell_type": "code",
      "metadata": {
        "colab": {
          "base_uri": "https://localhost:8080/"
        },
        "id": "sydXkV_fw2Cj",
        "outputId": "e3ed6229-65b4-407c-ac9d-1a2136f55eac"
      },
      "source": [
        "downloader.download(\"Male Lion\",limit=30,output_dir=\"images\",\n",
        "                    adult_filter_off=True )"
      ],
      "execution_count": 6,
      "outputs": [
        {
          "output_type": "stream",
          "text": [
            "\n",
            "\n",
            "[!!]Indexing page: 1\n",
            "\n",
            "[%] Indexed 10 Images on Page 1.\n",
            "\n",
            "===============================================\n",
            "\n",
            "[%] Downloading Image #1 from http://img.burrard-lucas.com/kenya/normal/male_lion_portrait.jpg\n",
            "[%] File Downloaded !\n",
            "\n",
            "[%] Downloading Image #2 from https://media.istockphoto.com/photos/portrait-of-a-beautiful-lion-lion-in-dark-picture-id942169458?k=6&amp;m=942169458&amp;s=170667a&amp;w=0&amp;h=zf0uV2R1gRmm7ljUFAaOv1-bV7P7bblcHIDNsfuLoRA=\n",
            "[%] File Downloaded !\n",
            "\n",
            "[%] Downloading Image #3 from https://thumbs.dreamstime.com/x/lion-golden-mane-serengeti-tanzania-16152221.jpg\n",
            "[%] File Downloaded !\n",
            "\n",
            "[%] Downloading Image #4 from http://www.wallpapersin4k.org/wp-content/uploads/2017/04/Scar-Lion-King-Wallpaper-8.jpg\n",
            "[%] File Downloaded !\n",
            "\n",
            "[%] Downloading Image #5 from https://thumbs.dreamstime.com/x/young-male-lion-4075209.jpg\n",
            "[%] File Downloaded !\n",
            "\n",
            "[%] Downloading Image #6 from http://editorial.designtaxi.com/news-disney261213/9.jpg\n",
            "[%] File Downloaded !\n",
            "\n",
            "[%] Downloading Image #7 from http://i.ytimg.com/vi/vybfyhYK-m0/maxresdefault.jpg\n",
            "[%] File Downloaded !\n",
            "\n",
            "[%] Downloading Image #8 from https://www.anime-planet.com/images/manga/covers/kirameki-no-lion-boy-21106.jpg\n",
            "[%] File Downloaded !\n",
            "\n",
            "[%] Downloading Image #9 from https://cdn.lolwot.com/wp-content/uploads/2016/03/10-interesting-facts-about-lions-you-didnt-know-5.jpg\n",
            "[%] File Downloaded !\n",
            "\n",
            "[%] Downloading Image #10 from https://thumbs.dreamstime.com/x/lion-wearing-crown-8064789.jpg\n",
            "[%] File Downloaded !\n",
            "\n",
            "\n",
            "\n",
            "[!!]Indexing page: 2\n",
            "\n",
            "[%] Indexed 12 Images on Page 2.\n",
            "\n",
            "===============================================\n",
            "\n",
            "[%] Downloading Image #11 from https://thumbs.dreamstime.com/x/lion-5115469.jpg\n",
            "[%] File Downloaded !\n",
            "\n",
            "[%] Downloading Image #12 from https://vignette.wikia.nocookie.net/thecanimals/images/1/1b/402585_310448565666002_1642866749_n.jpg/revision/latest/scale-to-width-down/220?cb=20180831221231\n",
            "[%] File Downloaded !\n",
            "\n",
            "[%] Downloading Image #13 from https://www.wallpapers13.com/wp-content/uploads/2016/06/African-lion-male-lions-some-more-common-than-the-weight-of-250-kg.jpg\n",
            "[%] File Downloaded !\n",
            "\n",
            "[%] Downloading Image #14 from https://cdn.thinglink.me/api/image/347151145409445888/1024/10/scaletowidth/0/0/1/1/false/true?wait=true\n",
            "[%] File Downloaded !\n",
            "\n",
            "[%] Downloading Image #15 from https://media.sciencephoto.com/image/z9340607/800wm/Z9340607-Lion_and_cub.jpg\n",
            "[%] File Downloaded !\n",
            "\n",
            "[%] Downloading Image #16 from https://www.wallpapers13.com/wp-content/uploads/2016/04/In-the-world-of-unicorn-family-Royal-gardens-mountains-sky-with-stars-and-a-full-moon-HD-Desktop-Wallpaper-1024x768.jpg\n",
            "[%] File Downloaded !\n",
            "\n",
            "[%] Downloading Image #17 from http://www.icecarver.co.uk/images/large/Male-Torso-Luge.jpg\n",
            "[%] File Downloaded !\n",
            "\n",
            "[%] Downloading Image #18 from http://www.wallpapers13.com/wp-content/uploads/2016/06/Animals-Mouse-Hamster-forest-green-grass-1920x1080-1366x768.jpg\n",
            "[%] File Downloaded !\n",
            "\n",
            "[%] Downloading Image #19 from https://www.anime-planet.com/images/characters/vulture-59311.jpg\n",
            "[%] File Downloaded !\n",
            "\n",
            "[%] Downloading Image #20 from https://i.pinimg.com/736x/1e/86/55/1e8655d4dfff2b7291fe39ffef68463c--animal-crackers-isaiah-.jpg\n",
            "[%] File Downloaded !\n",
            "\n",
            "[%] Downloading Image #21 from https://www.anime-planet.com/images/characters/gold-lion-shiki-9150.jpg\n",
            "[%] File Downloaded !\n",
            "\n",
            "[%] Downloading Image #22 from https://vignette.wikia.nocookie.net/disneyanimals/images/1/1d/20190523_020745.jpeg/revision/latest/scale-to-width-down/2000?cb=20190523071015\n",
            "[%] File Downloaded !\n",
            "\n",
            "\n",
            "\n",
            "[!!]Indexing page: 3\n",
            "\n",
            "[%] Indexed 11 Images on Page 3.\n",
            "\n",
            "===============================================\n",
            "\n",
            "[%] Downloading Image #23 from https://www.wallpapers13.com/wp-content/uploads/2016/06/African-lion-male-lions-some-more-common-than-the-weight-of-250-kg.jpg\n",
            "[%] File Downloaded !\n",
            "\n",
            "[%] Downloading Image #24 from https://vignette.wikia.nocookie.net/thecanimals/images/1/1b/402585_310448565666002_1642866749_n.jpg/revision/latest/scale-to-width-down/220?cb=20180831221231\n",
            "[%] File Downloaded !\n",
            "\n",
            "[%] Downloading Image #25 from https://media.sciencephoto.com/image/z9340607/800wm/Z9340607-Lion_and_cub.jpg\n",
            "[%] File Downloaded !\n",
            "\n",
            "[%] Downloading Image #26 from https://vignette.wikia.nocookie.net/disneyanimals/images/1/1d/20190523_020745.jpeg/revision/latest/scale-to-width-down/2000?cb=20190523071015\n",
            "[%] File Downloaded !\n",
            "\n",
            "[%] Downloading Image #27 from http://www.icecarver.co.uk/images/large/Male-Torso-Luge.jpg\n",
            "[%] File Downloaded !\n",
            "\n",
            "[%] Downloading Image #28 from https://www.wallpapers13.com/wp-content/uploads/2016/04/In-the-world-of-unicorn-family-Royal-gardens-mountains-sky-with-stars-and-a-full-moon-HD-Desktop-Wallpaper-1024x768.jpg\n",
            "[%] File Downloaded !\n",
            "\n",
            "[%] Downloading Image #29 from https://i.pinimg.com/736x/1e/86/55/1e8655d4dfff2b7291fe39ffef68463c--animal-crackers-isaiah-.jpg\n",
            "[%] File Downloaded !\n",
            "\n",
            "[%] Downloading Image #30 from http://www.wallpapers13.com/wp-content/uploads/2016/06/Animals-Mouse-Hamster-forest-green-grass-1920x1080-1366x768.jpg\n",
            "[%] File Downloaded !\n",
            "\n",
            "\n",
            "\n",
            "[%] Done. Downloaded 30 images.\n",
            "\n",
            "===============================================\n",
            "\n",
            "time: 18.2 s (started: 2021-04-30 17:43:59 +00:00)\n"
          ],
          "name": "stdout"
        }
      ]
    },
    {
      "cell_type": "code",
      "metadata": {
        "colab": {
          "base_uri": "https://localhost:8080/"
        },
        "id": "Ap8dvuL9zXJP",
        "outputId": "05ce6c20-785e-44f2-9fca-ae0fd8aad6b2"
      },
      "source": [
        "#preprocessing\n",
        "# 1. Resize\n",
        "# 2. Flatten\n",
        "import os \n",
        "import matplotlib.pyplot as plt\n",
        "import numpy as np\n",
        "from skimage.io import imread\n",
        "from skimage.transform import resize\n",
        "target = []\n",
        "images = []\n",
        "flat_data = []\n",
        "DATADIR = \"/content/images\"\n",
        "CATEGORIES = [\"Cheetahs\",\"Male Lion\",\"ice cream cone\"]\n",
        "for category in CATEGORIES:\n",
        "  class_num = CATEGORIES.index(category)\n",
        "  path = os.path.join(DATADIR,category)\n",
        "  for img in os.listdir(path):\n",
        "      img_array = imread(os.path.join(path,img))\n",
        "      #plt.imshow(img_array)\n",
        "      img_resized = resize(img_array,(150,150,3)) #normalizes the value from 0 to 1\n",
        "      flat_data.append(img_resized.flatten())\n",
        "      images.append(img_resized)\n",
        "      target.append(class_num)\n",
        "\n",
        "flat_data = np.array(flat_data)\n",
        "target = np.array(target)\n",
        "images = np.array(images)"
      ],
      "execution_count": 7,
      "outputs": [
        {
          "output_type": "stream",
          "text": [
            "time: 17.6 s (started: 2021-04-30 17:44:41 +00:00)\n"
          ],
          "name": "stdout"
        }
      ]
    },
    {
      "cell_type": "code",
      "metadata": {
        "colab": {
          "base_uri": "https://localhost:8080/"
        },
        "id": "a9fJq3Aorbb-",
        "outputId": "e4b62f6d-fc99-481f-ac57-746c1b4cc052"
      },
      "source": [
        "flat_data[0]"
      ],
      "execution_count": 9,
      "outputs": [
        {
          "output_type": "execute_result",
          "data": {
            "text/plain": [
              "array([0., 0., 0., ..., 0., 0., 0.])"
            ]
          },
          "metadata": {
            "tags": []
          },
          "execution_count": 9
        },
        {
          "output_type": "stream",
          "text": [
            "time: 14 ms (started: 2021-04-30 17:45:25 +00:00)\n"
          ],
          "name": "stdout"
        }
      ]
    },
    {
      "cell_type": "code",
      "metadata": {
        "colab": {
          "base_uri": "https://localhost:8080/"
        },
        "id": "nvhmPPYhrpj6",
        "outputId": "3e76a53f-c8b4-4b5e-9838-40a882aa05e5"
      },
      "source": [
        "target"
      ],
      "execution_count": 10,
      "outputs": [
        {
          "output_type": "execute_result",
          "data": {
            "text/plain": [
              "array([0, 0, 0, 0, 0, 0, 0, 0, 0, 0, 0, 0, 0, 0, 0, 0, 0, 0, 0, 0, 0, 0,\n",
              "       0, 0, 0, 0, 0, 0, 0, 0, 1, 1, 1, 1, 1, 1, 1, 1, 1, 1, 1, 1, 1, 1,\n",
              "       1, 1, 1, 1, 1, 1, 1, 1, 1, 1, 1, 1, 1, 1, 1, 1, 2, 2, 2, 2, 2, 2,\n",
              "       2, 2, 2, 2, 2, 2, 2, 2, 2, 2, 2, 2, 2, 2, 2, 2, 2, 2, 2, 2, 2, 2,\n",
              "       2, 2])"
            ]
          },
          "metadata": {
            "tags": []
          },
          "execution_count": 10
        },
        {
          "output_type": "stream",
          "text": [
            "time: 4.56 ms (started: 2021-04-30 17:45:28 +00:00)\n"
          ],
          "name": "stdout"
        }
      ]
    },
    {
      "cell_type": "code",
      "metadata": {
        "colab": {
          "base_uri": "https://localhost:8080/",
          "height": 299
        },
        "id": "m8Ch_Wr6rxFM",
        "outputId": "85d2ec22-0393-454b-f004-3be4102fde5f"
      },
      "source": [
        "unique,count = np.unique(target,return_counts=True)\n",
        "plt.bar(CATEGORIES,count)"
      ],
      "execution_count": 11,
      "outputs": [
        {
          "output_type": "execute_result",
          "data": {
            "text/plain": [
              "<BarContainer object of 3 artists>"
            ]
          },
          "metadata": {
            "tags": []
          },
          "execution_count": 11
        },
        {
          "output_type": "display_data",
          "data": {
            "image/png": "[encoded data removed]",
            "text/plain": [
              "<Figure size 432x288 with 1 Axes>"
            ]
          },
          "metadata": {
            "tags": [],
            "needs_background": "light"
          }
        },
        {
          "output_type": "stream",
          "text": [
            "time: 169 ms (started: 2021-04-30 17:45:30 +00:00)\n"
          ],
          "name": "stdout"
        }
      ]
    },
    {
      "cell_type": "code",
      "metadata": {
        "colab": {
          "base_uri": "https://localhost:8080/"
        },
        "id": "i4N0UhGesPu_",
        "outputId": "460966af-f14d-40f5-b651-4e0fe131471e"
      },
      "source": [
        "# Split data into training and testing\n",
        "from sklearn.model_selection import train_test_split\n",
        "x_train,x_test,y_train,y_test = train_test_split(flat_data,target,test_size=0.3,random_state=103)"
      ],
      "execution_count": 12,
      "outputs": [
        {
          "output_type": "stream",
          "text": [
            "time: 175 ms (started: 2021-04-30 17:45:35 +00:00)\n"
          ],
          "name": "stdout"
        }
      ]
    },
    {
      "cell_type": "code",
      "metadata": {
        "colab": {
          "base_uri": "https://localhost:8080/"
        },
        "id": "9Evo7Mjt1BOI",
        "outputId": "37cb956b-774b-454b-9a5d-9e2e50e92a68"
      },
      "source": [
        "from sklearn.model_selection import GridSearchCV\n",
        "from sklearn import svm\n",
        "param_grid = [\n",
        "              { 'C':[1,10,100,1000],'kernel' :['linear'] },\n",
        "              {'C':[1,10,100,1000],'gamma':[0.001,0.0001],'kernel':['rbf']},\n",
        "]\n",
        "svc = svm.SVC(probability= True)\n",
        "clf = GridSearchCV(svc,param_grid)\n",
        "clf.fit(x_train,y_train)"
      ],
      "execution_count": 13,
      "outputs": [
        {
          "output_type": "execute_result",
          "data": {
            "text/plain": [
              "GridSearchCV(cv=None, error_score=nan,\n",
              "             estimator=SVC(C=1.0, break_ties=False, cache_size=200,\n",
              "                           class_weight=None, coef0=0.0,\n",
              "                           decision_function_shape='ovr', degree=3,\n",
              "                           gamma='scale', kernel='rbf', max_iter=-1,\n",
              "                           probability=True, random_state=None, shrinking=True,\n",
              "                           tol=0.001, verbose=False),\n",
              "             iid='deprecated', n_jobs=None,\n",
              "             param_grid=[{'C': [1, 10, 100, 1000], 'kernel': ['linear']},\n",
              "                         {'C': [1, 10, 100, 1000], 'gamma': [0.001, 0.0001],\n",
              "                          'kernel': ['rbf']}],\n",
              "             pre_dispatch='2*n_jobs', refit=True, return_train_score=False,\n",
              "             scoring=None, verbose=0)"
            ]
          },
          "metadata": {
            "tags": []
          },
          "execution_count": 13
        },
        {
          "output_type": "stream",
          "text": [
            "time: 1min 41s (started: 2021-04-30 17:45:39 +00:00)\n"
          ],
          "name": "stdout"
        }
      ]
    },
    {
      "cell_type": "code",
      "metadata": {
        "colab": {
          "base_uri": "https://localhost:8080/"
        },
        "id": "CBfsA4Oq3-Zr",
        "outputId": "2b212be3-0a4c-4951-9740-9b6363e6763c"
      },
      "source": [
        "y_pred = clf.predict(x_test)\n",
        "y_pred"
      ],
      "execution_count": 14,
      "outputs": [
        {
          "output_type": "execute_result",
          "data": {
            "text/plain": [
              "array([1, 1, 1, 1, 1, 1, 1, 1, 2, 1, 1, 0, 2, 1, 1, 2, 1, 1, 0, 2, 1, 1,\n",
              "       1, 2, 1, 2, 1])"
            ]
          },
          "metadata": {
            "tags": []
          },
          "execution_count": 14
        },
        {
          "output_type": "stream",
          "text": [
            "time: 136 ms (started: 2021-04-30 17:47:30 +00:00)\n"
          ],
          "name": "stdout"
        }
      ]
    },
    {
      "cell_type": "code",
      "metadata": {
        "colab": {
          "base_uri": "https://localhost:8080/"
        },
        "id": "I-AEV5fp4LKa",
        "outputId": "88335011-43b0-4693-e883-01fb7ae50c95"
      },
      "source": [
        "y_test"
      ],
      "execution_count": 15,
      "outputs": [
        {
          "output_type": "execute_result",
          "data": {
            "text/plain": [
              "array([1, 0, 1, 1, 1, 1, 2, 0, 2, 1, 2, 0, 2, 2, 1, 2, 0, 1, 1, 2, 0, 1,\n",
              "       1, 2, 1, 2, 1])"
            ]
          },
          "metadata": {
            "tags": []
          },
          "execution_count": 15
        },
        {
          "output_type": "stream",
          "text": [
            "time: 4.48 ms (started: 2021-04-30 17:47:32 +00:00)\n"
          ],
          "name": "stdout"
        }
      ]
    },
    {
      "cell_type": "code",
      "metadata": {
        "colab": {
          "base_uri": "https://localhost:8080/"
        },
        "id": "g1NkT5oM4Zij",
        "outputId": "90964c3d-c07c-4a64-a858-a275ece0890f"
      },
      "source": [
        "from sklearn.metrics import accuracy_score,confusion_matrix"
      ],
      "execution_count": 16,
      "outputs": [
        {
          "output_type": "stream",
          "text": [
            "time: 1.55 ms (started: 2021-04-30 17:47:35 +00:00)\n"
          ],
          "name": "stdout"
        }
      ]
    },
    {
      "cell_type": "code",
      "metadata": {
        "colab": {
          "base_uri": "https://localhost:8080/"
        },
        "id": "nbckd-rW4kDS",
        "outputId": "8186981d-5dfa-4c82-a8f6-76ddf41d2d9e"
      },
      "source": [
        "accuracy_score(y_pred,y_test)"
      ],
      "execution_count": 17,
      "outputs": [
        {
          "output_type": "execute_result",
          "data": {
            "text/plain": [
              "0.7037037037037037"
            ]
          },
          "metadata": {
            "tags": []
          },
          "execution_count": 17
        },
        {
          "output_type": "stream",
          "text": [
            "time: 6.07 ms (started: 2021-04-30 17:47:37 +00:00)\n"
          ],
          "name": "stdout"
        }
      ]
    },
    {
      "cell_type": "code",
      "metadata": {
        "colab": {
          "base_uri": "https://localhost:8080/"
        },
        "id": "4iTAcz8U6OMa",
        "outputId": "81403347-c58e-4dd4-a2f7-593d664765bc"
      },
      "source": [
        "confusion_matrix(y_pred,y_test)"
      ],
      "execution_count": 18,
      "outputs": [
        {
          "output_type": "execute_result",
          "data": {
            "text/plain": [
              "array([[ 1,  1,  0],\n",
              "       [ 4, 12,  3],\n",
              "       [ 0,  0,  6]])"
            ]
          },
          "metadata": {
            "tags": []
          },
          "execution_count": 18
        },
        {
          "output_type": "stream",
          "text": [
            "time: 5.82 ms (started: 2021-04-30 17:47:39 +00:00)\n"
          ],
          "name": "stdout"
        }
      ]
    },
    {
      "cell_type": "code",
      "metadata": {
        "colab": {
          "base_uri": "https://localhost:8080/"
        },
        "id": "nzAs2Xjt6yJj",
        "outputId": "c56b677c-1f9f-4f9a-f0c9-e2c9d26ab3ca"
      },
      "source": [
        "# Save the model using pickle library\n",
        "import pickle\n",
        "pickle.dump(clf,open('img_model.p' , 'wb'))"
      ],
      "execution_count": 19,
      "outputs": [
        {
          "output_type": "stream",
          "text": [
            "time: 33.6 ms (started: 2021-04-30 17:47:44 +00:00)\n"
          ],
          "name": "stdout"
        }
      ]
    },
    {
      "cell_type": "code",
      "metadata": {
        "colab": {
          "base_uri": "https://localhost:8080/"
        },
        "id": "eGzIExmZ7kZM",
        "outputId": "7f5287b4-bfc2-4003-a767-098c2857e2aa"
      },
      "source": [
        "model = pickle.load(open('img_model.p','rb'))"
      ],
      "execution_count": 20,
      "outputs": [
        {
          "output_type": "stream",
          "text": [
            "time: 22.2 ms (started: 2021-04-30 17:47:48 +00:00)\n"
          ],
          "name": "stdout"
        }
      ]
    },
    {
      "cell_type": "code",
      "metadata": {
        "colab": {
          "base_uri": "https://localhost:8080/",
          "height": 357
        },
        "id": "cylvtOzd77fL",
        "outputId": "603abf77-6c81-4b65-868a-e2bb052a46b9"
      },
      "source": [
        "# Testing a brand new image \n",
        "flat_data = []\n",
        "url = input('Enter your URL')\n",
        "img = imread(url)\n",
        "img_resized = resize(img,(150,150,3))\n",
        "flat_data.append(img_resized.flatten())\n",
        "flat_data = np.array(flat_data)\n",
        "print(img.shape)\n",
        "plt.imshow(img_resized)\n",
        "y_out = model.predict(flat_data)\n",
        "y_out = CATEGORIES[y_out[0]]\n",
        "print(f' PREDICTED OUTPUT: {y_out}')"
      ],
      "execution_count": 21,
      "outputs": [
        {
          "output_type": "stream",
          "text": [
            "Enter your URLhttps://upload.wikimedia.org/wikipedia/commons/thumb/e/e7/Lion%28parRickBayok%29.jpg/1200px-Lion%28parRickBayok%29.jpg\n",
            "(900, 1200, 3)\n",
            " PREDICTED OUTPUT: Cheetahs\n"
          ],
          "name": "stdout"
        },
        {
          "output_type": "display_data",
          "data": {
            "image/png": "[encoded data removed]",
            "text/plain": [
              "<Figure size 432x288 with 1 Axes>"
            ]
          },
          "metadata": {
            "tags": [],
            "needs_background": "light"
          }
        },
        {
          "output_type": "stream",
          "text": [
            "time: 5.16 s (started: 2021-04-30 17:47:51 +00:00)\n"
          ],
          "name": "stdout"
        }
      ]
    },
    {
      "cell_type": "code",
      "metadata": {
        "colab": {
          "base_uri": "https://localhost:8080/",
          "height": 1000
        },
        "id": "wy_AoA6no-Jj",
        "outputId": "04e6bc6c-908a-4b79-88a7-3e56315b55e8"
      },
      "source": [
        "!pip install streamlit\n",
        "!pip install pyngrok\n",
        "from pyngrok import  ngrok"
      ],
      "execution_count": 22,
      "outputs": [
        {
          "output_type": "stream",
          "text": [
            "Collecting streamlit\n",
            "\u001b[?25l  Downloading https://files.pythonhosted.org/packages/b7/98/4725661dc5719c05ba7e3f9744407ce91e2d982cb6c9601de2bbb62e2dd0/streamlit-0.81.0-py2.py3-none-any.whl (8.2MB)\n",
            "\u001b[K     |████████████████████████████████| 8.2MB 13.5MB/s \n",
            "\u001b[?25hCollecting gitpython\n",
            "\u001b[?25l  Downloading https://files.pythonhosted.org/packages/a6/99/98019716955ba243657daedd1de8f3a88ca1f5b75057c38e959db22fb87b/GitPython-3.1.14-py3-none-any.whl (159kB)\n",
            "\u001b[K     |████████████████████████████████| 163kB 55.1MB/s \n",
            "\u001b[?25hRequirement already satisfied: altair>=3.2.0 in /usr/local/lib/python3.7/dist-packages (from streamlit) (4.1.0)\n",
            "Requirement already satisfied: python-dateutil in /usr/local/lib/python3.7/dist-packages (from streamlit) (2.8.1)\n",
            "Requirement already satisfied: numpy in /usr/local/lib/python3.7/dist-packages (from streamlit) (1.19.5)\n",
            "Requirement already satisfied: pyarrow; python_version < \"3.9\" in /usr/local/lib/python3.7/dist-packages (from streamlit) (3.0.0)\n",
            "Requirement already satisfied: protobuf!=3.11,>=3.6.0 in /usr/local/lib/python3.7/dist-packages (from streamlit) (3.12.4)\n",
            "Collecting base58\n",
            "  Downloading https://files.pythonhosted.org/packages/b8/a1/d9f565e9910c09fd325dc638765e8843a19fa696275c16cc08cf3b0a3c25/base58-2.1.0-py3-none-any.whl\n",
            "Requirement already satisfied: pandas>=0.21.0 in /usr/local/lib/python3.7/dist-packages (from streamlit) (1.1.5)\n",
            "Collecting watchdog; platform_system != \"Darwin\"\n",
            "\u001b[?25l  Downloading https://files.pythonhosted.org/packages/d2/b2/b4ebe23174fd00ec94ac3f58ebf85f1090c49858feab1ca62ed7ea4d2f2f/watchdog-2.0.3-py3-none-manylinux2014_x86_64.whl (74kB)\n",
            "\u001b[K     |████████████████████████████████| 81kB 9.4MB/s \n",
            "\u001b[?25hRequirement already satisfied: tornado>=5.0 in /usr/local/lib/python3.7/dist-packages (from streamlit) (5.1.1)\n",
            "Requirement already satisfied: requests in /usr/local/lib/python3.7/dist-packages (from streamlit) (2.23.0)\n",
            "Collecting pydeck>=0.1.dev5\n",
            "\u001b[?25l  Downloading https://files.pythonhosted.org/packages/d6/bc/f0e44828e4290367c869591d50d3671a4d0ee94926da6cb734b7b200308c/pydeck-0.6.2-py2.py3-none-any.whl (4.2MB)\n",
            "\u001b[K     |████████████████████████████████| 4.2MB 40.2MB/s \n",
            "\u001b[?25hRequirement already satisfied: packaging in /usr/local/lib/python3.7/dist-packages (from streamlit) (20.9)\n",
            "Requirement already satisfied: pillow>=6.2.0 in /usr/local/lib/python3.7/dist-packages (from streamlit) (7.1.2)\n",
            "Collecting validators\n",
            "  Downloading https://files.pythonhosted.org/packages/db/2f/7fed3ee94ad665ad2c1de87f858f10a7785251ff75b4fd47987888d07ef1/validators-0.18.2-py3-none-any.whl\n",
            "Requirement already satisfied: tzlocal in /usr/local/lib/python3.7/dist-packages (from streamlit) (1.5.1)\n",
            "Collecting blinker\n",
            "\u001b[?25l  Downloading https://files.pythonhosted.org/packages/1b/51/e2a9f3b757eb802f61dc1f2b09c8c99f6eb01cf06416c0671253536517b6/blinker-1.4.tar.gz (111kB)\n",
            "\u001b[K     |████████████████████████████████| 112kB 46.1MB/s \n",
            "\u001b[?25hRequirement already satisfied: cachetools>=4.0 in /usr/local/lib/python3.7/dist-packages (from streamlit) (4.2.1)\n",
            "Requirement already satisfied: click>=7.0 in /usr/local/lib/python3.7/dist-packages (from streamlit) (7.1.2)\n",
            "Requirement already satisfied: toml in /usr/local/lib/python3.7/dist-packages (from streamlit) (0.10.2)\n",
            "Requirement already satisfied: astor in /usr/local/lib/python3.7/dist-packages (from streamlit) (0.8.1)\n",
            "Collecting gitdb<5,>=4.0.1\n",
            "\u001b[?25l  Downloading https://files.pythonhosted.org/packages/ea/e8/f414d1a4f0bbc668ed441f74f44c116d9816833a48bf81d22b697090dba8/gitdb-4.0.7-py3-none-any.whl (63kB)\n",
            "\u001b[K     |████████████████████████████████| 71kB 8.2MB/s \n",
            "\u001b[?25hRequirement already satisfied: entrypoints in /usr/local/lib/python3.7/dist-packages (from altair>=3.2.0->streamlit) (0.3)\n",
            "Requirement already satisfied: toolz in /usr/local/lib/python3.7/dist-packages (from altair>=3.2.0->streamlit) (0.11.1)\n",
            "Requirement already satisfied: jinja2 in /usr/local/lib/python3.7/dist-packages (from altair>=3.2.0->streamlit) (2.11.3)\n",
            "Requirement already satisfied: jsonschema in /usr/local/lib/python3.7/dist-packages (from altair>=3.2.0->streamlit) (2.6.0)\n",
            "Requirement already satisfied: six>=1.5 in /usr/local/lib/python3.7/dist-packages (from python-dateutil->streamlit) (1.15.0)\n",
            "Requirement already satisfied: setuptools in /usr/local/lib/python3.7/dist-packages (from protobuf!=3.11,>=3.6.0->streamlit) (56.0.0)\n",
            "Requirement already satisfied: pytz>=2017.2 in /usr/local/lib/python3.7/dist-packages (from pandas>=0.21.0->streamlit) (2018.9)\n",
            "Requirement already satisfied: certifi>=2017.4.17 in /usr/local/lib/python3.7/dist-packages (from requests->streamlit) (2020.12.5)\n",
            "Requirement already satisfied: chardet<4,>=3.0.2 in /usr/local/lib/python3.7/dist-packages (from requests->streamlit) (3.0.4)\n",
            "Requirement already satisfied: urllib3!=1.25.0,!=1.25.1,<1.26,>=1.21.1 in /usr/local/lib/python3.7/dist-packages (from requests->streamlit) (1.24.3)\n",
            "Requirement already satisfied: idna<3,>=2.5 in /usr/local/lib/python3.7/dist-packages (from requests->streamlit) (2.10)\n",
            "Requirement already satisfied: ipywidgets>=7.0.0 in /usr/local/lib/python3.7/dist-packages (from pydeck>=0.1.dev5->streamlit) (7.6.3)\n",
            "Requirement already satisfied: traitlets>=4.3.2 in /usr/local/lib/python3.7/dist-packages (from pydeck>=0.1.dev5->streamlit) (5.0.5)\n",
            "Collecting ipykernel>=5.1.2; python_version >= \"3.4\"\n",
            "\u001b[?25l  Downloading https://files.pythonhosted.org/packages/3a/7d/9f8ac1b1b76f2f1538b5650f0b5636bae082724b1e06939a3a9d38e1380e/ipykernel-5.5.3-py3-none-any.whl (120kB)\n",
            "\u001b[K     |████████████████████████████████| 122kB 49.0MB/s \n",
            "\u001b[?25hRequirement already satisfied: pyparsing>=2.0.2 in /usr/local/lib/python3.7/dist-packages (from packaging->streamlit) (2.4.7)\n",
            "Requirement already satisfied: decorator>=3.4.0 in /usr/local/lib/python3.7/dist-packages (from validators->streamlit) (4.4.2)\n",
            "Collecting smmap<5,>=3.0.1\n",
            "  Downloading https://files.pythonhosted.org/packages/68/ee/d540eb5e5996eb81c26ceffac6ee49041d473bc5125f2aa995cf51ec1cf1/smmap-4.0.0-py2.py3-none-any.whl\n",
            "Requirement already satisfied: MarkupSafe>=0.23 in /usr/local/lib/python3.7/dist-packages (from jinja2->altair>=3.2.0->streamlit) (1.1.1)\n",
            "Requirement already satisfied: nbformat>=4.2.0 in /usr/local/lib/python3.7/dist-packages (from ipywidgets>=7.0.0->pydeck>=0.1.dev5->streamlit) (5.1.3)\n",
            "Requirement already satisfied: widgetsnbextension~=3.5.0 in /usr/local/lib/python3.7/dist-packages (from ipywidgets>=7.0.0->pydeck>=0.1.dev5->streamlit) (3.5.1)\n",
            "Requirement already satisfied: ipython>=4.0.0; python_version >= \"3.3\" in /usr/local/lib/python3.7/dist-packages (from ipywidgets>=7.0.0->pydeck>=0.1.dev5->streamlit) (5.5.0)\n",
            "Requirement already satisfied: jupyterlab-widgets>=1.0.0; python_version >= \"3.6\" in /usr/local/lib/python3.7/dist-packages (from ipywidgets>=7.0.0->pydeck>=0.1.dev5->streamlit) (1.0.0)\n",
            "Requirement already satisfied: ipython-genutils in /usr/local/lib/python3.7/dist-packages (from traitlets>=4.3.2->pydeck>=0.1.dev5->streamlit) (0.2.0)\n",
            "Requirement already satisfied: jupyter-client in /usr/local/lib/python3.7/dist-packages (from ipykernel>=5.1.2; python_version >= \"3.4\"->pydeck>=0.1.dev5->streamlit) (5.3.5)\n",
            "Requirement already satisfied: jupyter-core in /usr/local/lib/python3.7/dist-packages (from nbformat>=4.2.0->ipywidgets>=7.0.0->pydeck>=0.1.dev5->streamlit) (4.7.1)\n",
            "Requirement already satisfied: notebook>=4.4.1 in /usr/local/lib/python3.7/dist-packages (from widgetsnbextension~=3.5.0->ipywidgets>=7.0.0->pydeck>=0.1.dev5->streamlit) (5.3.1)\n",
            "Requirement already satisfied: pygments in /usr/local/lib/python3.7/dist-packages (from ipython>=4.0.0; python_version >= \"3.3\"->ipywidgets>=7.0.0->pydeck>=0.1.dev5->streamlit) (2.6.1)\n",
            "Requirement already satisfied: prompt-toolkit<2.0.0,>=1.0.4 in /usr/local/lib/python3.7/dist-packages (from ipython>=4.0.0; python_version >= \"3.3\"->ipywidgets>=7.0.0->pydeck>=0.1.dev5->streamlit) (1.0.18)\n",
            "Requirement already satisfied: pexpect; sys_platform != \"win32\" in /usr/local/lib/python3.7/dist-packages (from ipython>=4.0.0; python_version >= \"3.3\"->ipywidgets>=7.0.0->pydeck>=0.1.dev5->streamlit) (4.8.0)\n",
            "Requirement already satisfied: simplegeneric>0.8 in /usr/local/lib/python3.7/dist-packages (from ipython>=4.0.0; python_version >= \"3.3\"->ipywidgets>=7.0.0->pydeck>=0.1.dev5->streamlit) (0.8.1)\n",
            "Requirement already satisfied: pickleshare in /usr/local/lib/python3.7/dist-packages (from ipython>=4.0.0; python_version >= \"3.3\"->ipywidgets>=7.0.0->pydeck>=0.1.dev5->streamlit) (0.7.5)\n",
            "Requirement already satisfied: pyzmq>=13 in /usr/local/lib/python3.7/dist-packages (from jupyter-client->ipykernel>=5.1.2; python_version >= \"3.4\"->pydeck>=0.1.dev5->streamlit) (22.0.3)\n",
            "Requirement already satisfied: nbconvert in /usr/local/lib/python3.7/dist-packages (from notebook>=4.4.1->widgetsnbextension~=3.5.0->ipywidgets>=7.0.0->pydeck>=0.1.dev5->streamlit) (5.6.1)\n",
            "Requirement already satisfied: Send2Trash in /usr/local/lib/python3.7/dist-packages (from notebook>=4.4.1->widgetsnbextension~=3.5.0->ipywidgets>=7.0.0->pydeck>=0.1.dev5->streamlit) (1.5.0)\n",
            "Requirement already satisfied: terminado>=0.8.1 in /usr/local/lib/python3.7/dist-packages (from notebook>=4.4.1->widgetsnbextension~=3.5.0->ipywidgets>=7.0.0->pydeck>=0.1.dev5->streamlit) (0.9.4)\n",
            "Requirement already satisfied: wcwidth in /usr/local/lib/python3.7/dist-packages (from prompt-toolkit<2.0.0,>=1.0.4->ipython>=4.0.0; python_version >= \"3.3\"->ipywidgets>=7.0.0->pydeck>=0.1.dev5->streamlit) (0.2.5)\n",
            "Requirement already satisfied: ptyprocess>=0.5 in /usr/local/lib/python3.7/dist-packages (from pexpect; sys_platform != \"win32\"->ipython>=4.0.0; python_version >= \"3.3\"->ipywidgets>=7.0.0->pydeck>=0.1.dev5->streamlit) (0.7.0)\n",
            "Requirement already satisfied: testpath in /usr/local/lib/python3.7/dist-packages (from nbconvert->notebook>=4.4.1->widgetsnbextension~=3.5.0->ipywidgets>=7.0.0->pydeck>=0.1.dev5->streamlit) (0.4.4)\n",
            "Requirement already satisfied: defusedxml in /usr/local/lib/python3.7/dist-packages (from nbconvert->notebook>=4.4.1->widgetsnbextension~=3.5.0->ipywidgets>=7.0.0->pydeck>=0.1.dev5->streamlit) (0.7.1)\n",
            "Requirement already satisfied: bleach in /usr/local/lib/python3.7/dist-packages (from nbconvert->notebook>=4.4.1->widgetsnbextension~=3.5.0->ipywidgets>=7.0.0->pydeck>=0.1.dev5->streamlit) (3.3.0)\n",
            "Requirement already satisfied: mistune<2,>=0.8.1 in /usr/local/lib/python3.7/dist-packages (from nbconvert->notebook>=4.4.1->widgetsnbextension~=3.5.0->ipywidgets>=7.0.0->pydeck>=0.1.dev5->streamlit) (0.8.4)\n",
            "Requirement already satisfied: pandocfilters>=1.4.1 in /usr/local/lib/python3.7/dist-packages (from nbconvert->notebook>=4.4.1->widgetsnbextension~=3.5.0->ipywidgets>=7.0.0->pydeck>=0.1.dev5->streamlit) (1.4.3)\n",
            "Requirement already satisfied: webencodings in /usr/local/lib/python3.7/dist-packages (from bleach->nbconvert->notebook>=4.4.1->widgetsnbextension~=3.5.0->ipywidgets>=7.0.0->pydeck>=0.1.dev5->streamlit) (0.5.1)\n",
            "Building wheels for collected packages: blinker\n",
            "  Building wheel for blinker (setup.py) ... \u001b[?25l\u001b[?25hdone\n",
            "  Created wheel for blinker: filename=blinker-1.4-cp37-none-any.whl size=13448 sha256=3757e5e3368730b144093dee94538fcab421d763df07da419dc60efa43c6bd69\n",
            "  Stored in directory: /root/.cache/pip/wheels/92/a0/00/8690a57883956a301d91cf4ec999cc0b258b01e3f548f86e89\n",
            "Successfully built blinker\n",
            "\u001b[31mERROR: google-colab 1.0.0 has requirement ipykernel~=4.10, but you'll have ipykernel 5.5.3 which is incompatible.\u001b[0m\n",
            "Installing collected packages: smmap, gitdb, gitpython, base58, watchdog, ipykernel, pydeck, validators, blinker, streamlit\n",
            "  Found existing installation: ipykernel 4.10.1\n",
            "    Uninstalling ipykernel-4.10.1:\n",
            "      Successfully uninstalled ipykernel-4.10.1\n",
            "Successfully installed base58-2.1.0 blinker-1.4 gitdb-4.0.7 gitpython-3.1.14 ipykernel-5.5.3 pydeck-0.6.2 smmap-4.0.0 streamlit-0.81.0 validators-0.18.2 watchdog-2.0.3\n"
          ],
          "name": "stdout"
        },
        {
          "output_type": "display_data",
          "data": {
            "application/vnd.colab-display-data+json": {
              "pip_warning": {
                "packages": [
                  "ipykernel"
                ]
              }
            }
          },
          "metadata": {
            "tags": []
          }
        },
        {
          "output_type": "stream",
          "text": [
            "Collecting pyngrok\n",
            "\u001b[?25l  Downloading https://files.pythonhosted.org/packages/6b/4e/a2fe095bbe17cf26424c4abcd22a0490e22d01cc628f25af5e220ddbf6f0/pyngrok-5.0.5.tar.gz (745kB)\n",
            "\r\u001b[K     |▍                               | 10kB 16.1MB/s eta 0:00:01\r\u001b[K     |▉                               | 20kB 20.7MB/s eta 0:00:01\r\u001b[K     |█▎                              | 30kB 25.1MB/s eta 0:00:01\r\u001b[K     |█▊                              | 40kB 27.6MB/s eta 0:00:01\r\u001b[K     |██▏                             | 51kB 23.5MB/s eta 0:00:01\r\u001b[K     |██▋                             | 61kB 18.7MB/s eta 0:00:01\r\u001b[K     |███                             | 71kB 19.4MB/s eta 0:00:01\r\u001b[K     |███▌                            | 81kB 15.6MB/s eta 0:00:01\r\u001b[K     |████                            | 92kB 15.5MB/s eta 0:00:01\r\u001b[K     |████▍                           | 102kB 16.0MB/s eta 0:00:01\r\u001b[K     |████▉                           | 112kB 16.0MB/s eta 0:00:01\r\u001b[K     |█████▎                          | 122kB 16.0MB/s eta 0:00:01\r\u001b[K     |█████▊                          | 133kB 16.0MB/s eta 0:00:01\r\u001b[K     |██████▏                         | 143kB 16.0MB/s eta 0:00:01\r\u001b[K     |██████▋                         | 153kB 16.0MB/s eta 0:00:01\r\u001b[K     |███████                         | 163kB 16.0MB/s eta 0:00:01\r\u001b[K     |███████▌                        | 174kB 16.0MB/s eta 0:00:01\r\u001b[K     |████████                        | 184kB 16.0MB/s eta 0:00:01\r\u001b[K     |████████▍                       | 194kB 16.0MB/s eta 0:00:01\r\u001b[K     |████████▉                       | 204kB 16.0MB/s eta 0:00:01\r\u001b[K     |█████████▎                      | 215kB 16.0MB/s eta 0:00:01\r\u001b[K     |█████████▊                      | 225kB 16.0MB/s eta 0:00:01\r\u001b[K     |██████████▏                     | 235kB 16.0MB/s eta 0:00:01\r\u001b[K     |██████████▌                     | 245kB 16.0MB/s eta 0:00:01\r\u001b[K     |███████████                     | 256kB 16.0MB/s eta 0:00:01\r\u001b[K     |███████████▍                    | 266kB 16.0MB/s eta 0:00:01\r\u001b[K     |███████████▉                    | 276kB 16.0MB/s eta 0:00:01\r\u001b[K     |████████████▎                   | 286kB 16.0MB/s eta 0:00:01\r\u001b[K     |████████████▊                   | 296kB 16.0MB/s eta 0:00:01\r\u001b[K     |█████████████▏                  | 307kB 16.0MB/s eta 0:00:01\r\u001b[K     |█████████████▋                  | 317kB 16.0MB/s eta 0:00:01\r\u001b[K     |██████████████                  | 327kB 16.0MB/s eta 0:00:01\r\u001b[K     |██████████████▌                 | 337kB 16.0MB/s eta 0:00:01\r\u001b[K     |███████████████                 | 348kB 16.0MB/s eta 0:00:01\r\u001b[K     |███████████████▍                | 358kB 16.0MB/s eta 0:00:01\r\u001b[K     |███████████████▉                | 368kB 16.0MB/s eta 0:00:01\r\u001b[K     |████████████████▎               | 378kB 16.0MB/s eta 0:00:01\r\u001b[K     |████████████████▊               | 389kB 16.0MB/s eta 0:00:01\r\u001b[K     |█████████████████▏              | 399kB 16.0MB/s eta 0:00:01\r\u001b[K     |█████████████████▋              | 409kB 16.0MB/s eta 0:00:01\r\u001b[K     |██████████████████              | 419kB 16.0MB/s eta 0:00:01\r\u001b[K     |██████████████████▌             | 430kB 16.0MB/s eta 0:00:01\r\u001b[K     |███████████████████             | 440kB 16.0MB/s eta 0:00:01\r\u001b[K     |███████████████████▍            | 450kB 16.0MB/s eta 0:00:01\r\u001b[K     |███████████████████▉            | 460kB 16.0MB/s eta 0:00:01\r\u001b[K     |████████████████████▎           | 471kB 16.0MB/s eta 0:00:01\r\u001b[K     |████████████████████▊           | 481kB 16.0MB/s eta 0:00:01\r\u001b[K     |█████████████████████           | 491kB 16.0MB/s eta 0:00:01\r\u001b[K     |█████████████████████▌          | 501kB 16.0MB/s eta 0:00:01\r\u001b[K     |██████████████████████          | 512kB 16.0MB/s eta 0:00:01\r\u001b[K     |██████████████████████▍         | 522kB 16.0MB/s eta 0:00:01\r\u001b[K     |██████████████████████▉         | 532kB 16.0MB/s eta 0:00:01\r\u001b[K     |███████████████████████▎        | 542kB 16.0MB/s eta 0:00:01\r\u001b[K     |███████████████████████▊        | 552kB 16.0MB/s eta 0:00:01\r\u001b[K     |████████████████████████▏       | 563kB 16.0MB/s eta 0:00:01\r\u001b[K     |████████████████████████▋       | 573kB 16.0MB/s eta 0:00:01\r\u001b[K     |█████████████████████████       | 583kB 16.0MB/s eta 0:00:01\r\u001b[K     |█████████████████████████▌      | 593kB 16.0MB/s eta 0:00:01\r\u001b[K     |██████████████████████████      | 604kB 16.0MB/s eta 0:00:01\r\u001b[K     |██████████████████████████▍     | 614kB 16.0MB/s eta 0:00:01\r\u001b[K     |██████████████████████████▉     | 624kB 16.0MB/s eta 0:00:01\r\u001b[K     |███████████████████████████▎    | 634kB 16.0MB/s eta 0:00:01\r\u001b[K     |███████████████████████████▊    | 645kB 16.0MB/s eta 0:00:01\r\u001b[K     |████████████████████████████▏   | 655kB 16.0MB/s eta 0:00:01\r\u001b[K     |████████████████████████████▋   | 665kB 16.0MB/s eta 0:00:01\r\u001b[K     |█████████████████████████████   | 675kB 16.0MB/s eta 0:00:01\r\u001b[K     |█████████████████████████████▌  | 686kB 16.0MB/s eta 0:00:01\r\u001b[K     |██████████████████████████████  | 696kB 16.0MB/s eta 0:00:01\r\u001b[K     |██████████████████████████████▍ | 706kB 16.0MB/s eta 0:00:01\r\u001b[K     |██████████████████████████████▉ | 716kB 16.0MB/s eta 0:00:01\r\u001b[K     |███████████████████████████████▏| 727kB 16.0MB/s eta 0:00:01\r\u001b[K     |███████████████████████████████▋| 737kB 16.0MB/s eta 0:00:01\r\u001b[K     |████████████████████████████████| 747kB 16.0MB/s \n",
            "\u001b[?25hRequirement already satisfied: PyYAML in /usr/local/lib/python3.7/dist-packages (from pyngrok) (3.13)\n",
            "Building wheels for collected packages: pyngrok\n",
            "  Building wheel for pyngrok (setup.py) ... \u001b[?25l\u001b[?25hdone\n",
            "  Created wheel for pyngrok: filename=pyngrok-5.0.5-cp37-none-any.whl size=19246 sha256=277282e7e4bb0aa7e57a1c5f0e6042a0691ca52a1420b444a624fdf96bb01ff2\n",
            "  Stored in directory: /root/.cache/pip/wheels/0c/13/64/5ebbcc22eaf53fdf5766b397c1fb17c83f5775fdccf0ea1b88\n",
            "Successfully built pyngrok\n",
            "Installing collected packages: pyngrok\n",
            "Successfully installed pyngrok-5.0.5\n",
            "time: 17.5 s (started: 2021-04-30 17:48:01 +00:00)\n"
          ],
          "name": "stdout"
        }
      ]
    },
    {
      "cell_type": "code",
      "metadata": {
        "colab": {
          "base_uri": "https://localhost:8080/"
        },
        "id": "kXSoQn5rHITd",
        "outputId": "718803bb-99fa-4d29-eb63-4bd7e926264b"
      },
      "source": [
        "#Deployment using webApp\n",
        "%%writefile app.py\n",
        "import streamlit as st\n",
        "import numpy as np\n",
        "from skimage.io import imread\n",
        "from skimage.transform import resize\n",
        "import pickle\n",
        "from PIL import Image\n",
        "st.title('image classifier')\n",
        "st.text('upload the image')\n",
        "\n",
        "model = pickle.load(open('img_model.p','rb'))\n",
        "\n",
        "upload_file = st.file_uploader('choose an image...',type=\"jpg\")\n",
        "if uploaded_file is not None:\n",
        "   img = Image.open(uploaded_file)\n",
        "   st.image(img,caption=\"uploaded_image\")\n",
        "   if st.button('PREDICT'):\n",
        "     CATEGORIES = [\"Male Lion\",\"Cheetahs\",\"ice cream cone\"]\n",
        "     st.write('Result...')\n",
        "     flat_data = []   \n",
        "     img=np.array(img)\n",
        "     img_resized = resize(img,(150,150,3))\n",
        "     \n",
        "     flat_data.append(img_resized.flatten())\n",
        "     flat_data = np.array(flat_data)\n",
        "     \n",
        "     \n",
        "     y_out = model.predict(flat_data)\n",
        "     y_out = CATEGORIES[y_out[0]]\n",
        "     st.title(f' PREDICTED OUTPUT: {y_out}')\n",
        "     q = model.predict_proba(flat_data)\n",
        "     for index, item in enumerate(CATEGORIES):\n",
        "       st.write(f'{item} : {q[0][index]*100}%')\n",
        " \n"
      ],
      "execution_count": 23,
      "outputs": [
        {
          "output_type": "stream",
          "text": [
            "Writing app.py\n",
            "time: 4.74 ms (started: 2021-04-30 17:48:29 +00:00)\n"
          ],
          "name": "stdout"
        }
      ]
    },
    {
      "cell_type": "code",
      "metadata": {
        "colab": {
          "base_uri": "https://localhost:8080/"
        },
        "id": "aFOW9ExllH-Y",
        "outputId": "58d289fe-46ff-46cc-e6fd-3998024ca587"
      },
      "source": [
        "!nohup streamlit run app.py &\n",
        "\n",
        "url = ngrok.connect(port='8501')\n",
        "url"
      ],
      "execution_count": 24,
      "outputs": [
        {
          "output_type": "stream",
          "text": [
            "nohup: appending output to 'nohup.out'\n"
          ],
          "name": "stdout"
        },
        {
          "output_type": "execute_result",
          "data": {
            "text/plain": [
              "<NgrokTunnel: \"http://c76bf3d49568.ngrok.io\" -> \"http://localhost:80\">"
            ]
          },
          "metadata": {
            "tags": []
          },
          "execution_count": 24
        },
        {
          "output_type": "stream",
          "text": [
            "time: 1.31 s (started: 2021-04-30 17:48:38 +00:00)\n"
          ],
          "name": "stdout"
        }
      ]
    }
  ]
}